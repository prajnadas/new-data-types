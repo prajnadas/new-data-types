{
 "cells": [
  {
   "cell_type": "markdown",
   "id": "56ad4c3d",
   "metadata": {},
   "source": [
    "# Python Data Types"
   ]
  },
  {
   "cell_type": "markdown",
   "id": "a6fae460",
   "metadata": {},
   "source": [
    "A **data type** is a **value** or a **class** in Python.\n",
    "For example, you can think of a **data type** as a **value** or a **class** which represents all numbers.\n",
    "\n",
    "A program simply instructs the computer to _store information_ (more specifically, the data type) and _modify that information_ to achieve an output.\n",
    "So we are basically taking actions on these data types.\n",
    "\n",
    "The two crucial steps on learning a programming language are:\n",
    "\n",
    "    1. Understanding the data types that exist in the language\n",
    "    2. Learning how we can manipulate, create, store, read, change or remove a data.\n",
    "\n",
    "python has 3 kinds of data types:\n",
    "1. fundamental\n",
    "2. custom (classes)\n",
    "3. special (modules)\n",
    "\n",
    "The fundamental data types are core to the language. In python they can be classified as: \n",
    "1. numerical (int, float, complex, bool)\n",
    "2. sequence (list, tuple, set, string, range)\n",
    "3. dictionary (dict)\n",
    "\n",
    "\n"
   ]
  },
  {
   "cell_type": "markdown",
   "id": "056c9635",
   "metadata": {},
   "source": [
    "# 1. Fundamental Data Types"
   ]
  },
  {
   "cell_type": "markdown",
   "id": "d059a590",
   "metadata": {},
   "source": [
    "## 1.1 numeric data types"
   ]
  },
  {
   "cell_type": "markdown",
   "id": "3b3f746d",
   "metadata": {},
   "source": [
    "### 1.1.1 int"
   ]
  },
  {
   "cell_type": "code",
   "execution_count": 2,
   "id": "4bfaaef6",
   "metadata": {},
   "outputs": [
    {
     "data": {
      "text/plain": [
       "int"
      ]
     },
     "execution_count": 2,
     "metadata": {},
     "output_type": "execute_result"
    }
   ],
   "source": [
    "#int stands for integer\n",
    "num1=4\n",
    "type(num1)"
   ]
  },
  {
   "cell_type": "markdown",
   "id": "aa3bf111",
   "metadata": {},
   "source": [
    "### 1.1.2 float "
   ]
  },
  {
   "cell_type": "code",
   "execution_count": 3,
   "id": "a3e283b3",
   "metadata": {},
   "outputs": [
    {
     "data": {
      "text/plain": [
       "float"
      ]
     },
     "execution_count": 3,
     "metadata": {},
     "output_type": "execute_result"
    }
   ],
   "source": [
    "#float stands for floating point number\n",
    "num2=5.9\n",
    "type(num2)"
   ]
  },
  {
   "cell_type": "markdown",
   "id": "191c9b2f",
   "metadata": {},
   "source": [
    "### 1.1.3 complex"
   ]
  },
  {
   "cell_type": "code",
   "execution_count": 8,
   "id": "c991031c",
   "metadata": {},
   "outputs": [
    {
     "data": {
      "text/plain": [
       "complex"
      ]
     },
     "execution_count": 8,
     "metadata": {},
     "output_type": "execute_result"
    }
   ],
   "source": [
    "num3=5+7j #here j is square root of -1\n",
    "type(num3)"
   ]
  },
  {
   "cell_type": "markdown",
   "id": "c52fb034",
   "metadata": {},
   "source": [
    "#### Extras1: conversions"
   ]
  },
  {
   "cell_type": "code",
   "execution_count": 9,
   "id": "417ae8bd",
   "metadata": {},
   "outputs": [
    {
     "data": {
      "text/plain": [
       "int"
      ]
     },
     "execution_count": 9,
     "metadata": {},
     "output_type": "execute_result"
    }
   ],
   "source": [
    "a=5.66\n",
    "b=int(a)\n",
    "type(b)"
   ]
  },
  {
   "cell_type": "code",
   "execution_count": 10,
   "id": "6769d711",
   "metadata": {},
   "outputs": [
    {
     "data": {
      "text/plain": [
       "5.0"
      ]
     },
     "execution_count": 10,
     "metadata": {},
     "output_type": "execute_result"
    }
   ],
   "source": [
    "c=float(b)\n",
    "c"
   ]
  },
  {
   "cell_type": "code",
   "execution_count": 11,
   "id": "8211628d",
   "metadata": {},
   "outputs": [
    {
     "data": {
      "text/plain": [
       "(5+7j)"
      ]
     },
     "execution_count": 11,
     "metadata": {},
     "output_type": "execute_result"
    }
   ],
   "source": [
    "k=7\n",
    "i=complex(b,k)\n",
    "i"
   ]
  },
  {
   "cell_type": "code",
   "execution_count": 12,
   "id": "4f75fb12",
   "metadata": {},
   "outputs": [
    {
     "data": {
      "text/plain": [
       "complex"
      ]
     },
     "execution_count": 12,
     "metadata": {},
     "output_type": "execute_result"
    }
   ],
   "source": [
    "type(i)"
   ]
  },
  {
   "cell_type": "markdown",
   "id": "f625ecdb",
   "metadata": {},
   "source": [
    "### 1.1.4 bool"
   ]
  },
  {
   "cell_type": "code",
   "execution_count": 13,
   "id": "b1159485",
   "metadata": {},
   "outputs": [
    {
     "data": {
      "text/plain": [
       "False"
      ]
     },
     "execution_count": 13,
     "metadata": {},
     "output_type": "execute_result"
    }
   ],
   "source": [
    "#bool stands for boolean types\n",
    "b>k"
   ]
  },
  {
   "cell_type": "code",
   "execution_count": 14,
   "id": "bad19ec8",
   "metadata": {},
   "outputs": [
    {
     "data": {
      "text/plain": [
       "True"
      ]
     },
     "execution_count": 14,
     "metadata": {},
     "output_type": "execute_result"
    }
   ],
   "source": [
    "bool=b<k\n",
    "bool"
   ]
  },
  {
   "cell_type": "code",
   "execution_count": 15,
   "id": "6fc09007",
   "metadata": {},
   "outputs": [
    {
     "data": {
      "text/plain": [
       "bool"
      ]
     },
     "execution_count": 15,
     "metadata": {},
     "output_type": "execute_result"
    }
   ],
   "source": [
    "type(bool)"
   ]
  },
  {
   "cell_type": "code",
   "execution_count": 17,
   "id": "2e4ffcf8",
   "metadata": {},
   "outputs": [
    {
     "data": {
      "text/plain": [
       "1"
      ]
     },
     "execution_count": 17,
     "metadata": {},
     "output_type": "execute_result"
    }
   ],
   "source": [
    "int(True)"
   ]
  },
  {
   "cell_type": "code",
   "execution_count": 18,
   "id": "870cdeb0",
   "metadata": {
    "scrolled": true
   },
   "outputs": [
    {
     "data": {
      "text/plain": [
       "0"
      ]
     },
     "execution_count": 18,
     "metadata": {},
     "output_type": "execute_result"
    }
   ],
   "source": [
    "int(False)"
   ]
  },
  {
   "cell_type": "markdown",
   "id": "02a1fd63",
   "metadata": {},
   "source": [
    "## 1.2 sequence data types"
   ]
  },
  {
   "cell_type": "markdown",
   "id": "08ded0b8",
   "metadata": {},
   "source": [
    "### 1.2.1 list"
   ]
  },
  {
   "cell_type": "code",
   "execution_count": 24,
   "id": "5c262917",
   "metadata": {},
   "outputs": [],
   "source": [
    "#lists are similar to arrays: a collection of items.\n",
    "li1=[1,2,3,4,5]\n",
    "li2=['notebook','sunglasses','chocolates']\n",
    "li3=[1,2,'a',True]"
   ]
  },
  {
   "cell_type": "code",
   "execution_count": 25,
   "id": "def0a378",
   "metadata": {},
   "outputs": [
    {
     "data": {
      "text/plain": [
       "'notebook'"
      ]
     },
     "execution_count": 25,
     "metadata": {},
     "output_type": "execute_result"
    }
   ],
   "source": [
    "li2[0]"
   ]
  },
  {
   "cell_type": "code",
   "execution_count": 27,
   "id": "e2fa10be",
   "metadata": {},
   "outputs": [
    {
     "data": {
      "text/plain": [
       "list"
      ]
     },
     "execution_count": 27,
     "metadata": {},
     "output_type": "execute_result"
    }
   ],
   "source": [
    "type(li1)"
   ]
  },
  {
   "cell_type": "code",
   "execution_count": 28,
   "id": "148edb4d",
   "metadata": {},
   "outputs": [
    {
     "data": {
      "text/plain": [
       "[1, 2, 'a', False]"
      ]
     },
     "execution_count": 28,
     "metadata": {},
     "output_type": "execute_result"
    }
   ],
   "source": [
    "#lists are mutable: we can make changes in a list\n",
    "li3[3]=False\n",
    "li3"
   ]
  },
  {
   "cell_type": "code",
   "execution_count": 30,
   "id": "f241844c",
   "metadata": {},
   "outputs": [
    {
     "data": {
      "text/plain": [
       "[1, 2, 3]"
      ]
     },
     "execution_count": 30,
     "metadata": {},
     "output_type": "execute_result"
    }
   ],
   "source": [
    "li1[0:3]"
   ]
  },
  {
   "cell_type": "code",
   "execution_count": 31,
   "id": "50248b33",
   "metadata": {},
   "outputs": [
    {
     "data": {
      "text/plain": [
       "[1, 5]"
      ]
     },
     "execution_count": 31,
     "metadata": {},
     "output_type": "execute_result"
    }
   ],
   "source": [
    "li1[0::4]"
   ]
  },
  {
   "cell_type": "markdown",
   "id": "c0a0835c",
   "metadata": {},
   "source": [
    "### 1.2.2 tuple"
   ]
  },
  {
   "cell_type": "code",
   "execution_count": 2,
   "id": "b4d07f65",
   "metadata": {},
   "outputs": [
    {
     "data": {
      "text/plain": [
       "tuple"
      ]
     },
     "execution_count": 2,
     "metadata": {},
     "output_type": "execute_result"
    }
   ],
   "source": [
    "t=(25,23,66,34)\n",
    "type(t)"
   ]
  },
  {
   "cell_type": "code",
   "execution_count": 27,
   "id": "570be696",
   "metadata": {},
   "outputs": [
    {
     "ename": "TypeError",
     "evalue": "'tuple' object does not support item assignment",
     "output_type": "error",
     "traceback": [
      "\u001b[1;31m---------------------------------------------------------------------------\u001b[0m",
      "\u001b[1;31mTypeError\u001b[0m                                 Traceback (most recent call last)",
      "\u001b[1;32m<ipython-input-27-603373952a8d>\u001b[0m in \u001b[0;36m<module>\u001b[1;34m\u001b[0m\n\u001b[0;32m      1\u001b[0m \u001b[1;31m#tuples are like lists but unlike lists we cannot modify them. They are immutable.\u001b[0m\u001b[1;33m\u001b[0m\u001b[1;33m\u001b[0m\u001b[1;33m\u001b[0m\u001b[0m\n\u001b[1;32m----> 2\u001b[1;33m \u001b[0mt\u001b[0m\u001b[1;33m[\u001b[0m\u001b[1;36m1\u001b[0m\u001b[1;33m]\u001b[0m\u001b[1;33m=\u001b[0m\u001b[1;34m'z'\u001b[0m\u001b[1;33m\u001b[0m\u001b[1;33m\u001b[0m\u001b[0m\n\u001b[0m",
      "\u001b[1;31mTypeError\u001b[0m: 'tuple' object does not support item assignment"
     ]
    }
   ],
   "source": [
    "#tuples are like lists but unlike lists we cannot modify them. They are immutable.\n",
    "t[1]='z'"
   ]
  },
  {
   "cell_type": "code",
   "execution_count": 28,
   "id": "d314ac6b",
   "metadata": {},
   "outputs": [
    {
     "data": {
      "text/plain": [
       "23"
      ]
     },
     "execution_count": 28,
     "metadata": {},
     "output_type": "execute_result"
    }
   ],
   "source": [
    "t[1]"
   ]
  },
  {
   "cell_type": "code",
   "execution_count": 29,
   "id": "090ebe70",
   "metadata": {},
   "outputs": [
    {
     "data": {
      "text/plain": [
       "True"
      ]
     },
     "execution_count": 29,
     "metadata": {},
     "output_type": "execute_result"
    }
   ],
   "source": [
    "23 in t"
   ]
  },
  {
   "cell_type": "markdown",
   "id": "336bf3c9",
   "metadata": {},
   "source": [
    "### 1.2.3 set"
   ]
  },
  {
   "cell_type": "code",
   "execution_count": null,
   "id": "4918050a",
   "metadata": {},
   "outputs": [],
   "source": [
    "#unordered collection of unique objects\n",
    "s={25,23,66,34}\n",
    "type(s)"
   ]
  },
  {
   "cell_type": "code",
   "execution_count": 30,
   "id": "e3ca18c0",
   "metadata": {},
   "outputs": [
    {
     "data": {
      "text/plain": [
       "{23, 25, 34, 66}"
      ]
     },
     "execution_count": 30,
     "metadata": {},
     "output_type": "execute_result"
    }
   ],
   "source": [
    "s"
   ]
  },
  {
   "cell_type": "code",
   "execution_count": 31,
   "id": "7cf92c37",
   "metadata": {},
   "outputs": [
    {
     "data": {
      "text/plain": [
       "{23, 25, 34, 66}"
      ]
     },
     "execution_count": 31,
     "metadata": {},
     "output_type": "execute_result"
    }
   ],
   "source": [
    "s1={25,23,66,66,34}\n",
    "s1"
   ]
  },
  {
   "cell_type": "code",
   "execution_count": 41,
   "id": "4e1f37da",
   "metadata": {},
   "outputs": [
    {
     "data": {
      "text/plain": [
       "{23, 25, 34, 66, 100}"
      ]
     },
     "execution_count": 41,
     "metadata": {},
     "output_type": "execute_result"
    }
   ],
   "source": [
    "s.add(100)\n",
    "s"
   ]
  },
  {
   "cell_type": "code",
   "execution_count": 39,
   "id": "d450f143",
   "metadata": {},
   "outputs": [
    {
     "data": {
      "text/plain": [
       "{23, 25, 34, 66, 100}"
      ]
     },
     "execution_count": 39,
     "metadata": {},
     "output_type": "execute_result"
    }
   ],
   "source": [
    "s.add(66)\n",
    "s"
   ]
  },
  {
   "cell_type": "code",
   "execution_count": 44,
   "id": "4f4fc02c",
   "metadata": {},
   "outputs": [
    {
     "ename": "TypeError",
     "evalue": "'set' object is not subscriptable",
     "output_type": "error",
     "traceback": [
      "\u001b[1;31m---------------------------------------------------------------------------\u001b[0m",
      "\u001b[1;31mTypeError\u001b[0m                                 Traceback (most recent call last)",
      "\u001b[1;32m<ipython-input-44-da05ae654f28>\u001b[0m in \u001b[0;36m<module>\u001b[1;34m\u001b[0m\n\u001b[1;32m----> 1\u001b[1;33m \u001b[0ms1\u001b[0m\u001b[1;33m[\u001b[0m\u001b[1;36m1\u001b[0m\u001b[1;33m]\u001b[0m\u001b[1;33m\u001b[0m\u001b[1;33m\u001b[0m\u001b[0m\n\u001b[0m",
      "\u001b[1;31mTypeError\u001b[0m: 'set' object is not subscriptable"
     ]
    }
   ],
   "source": [
    "s1[1]"
   ]
  },
  {
   "cell_type": "code",
   "execution_count": 45,
   "id": "3ca8bc3b",
   "metadata": {},
   "outputs": [
    {
     "data": {
      "text/plain": [
       "True"
      ]
     },
     "execution_count": 45,
     "metadata": {},
     "output_type": "execute_result"
    }
   ],
   "source": [
    "66 in s1"
   ]
  },
  {
   "cell_type": "markdown",
   "id": "f2621bda",
   "metadata": {},
   "source": [
    "#### Extras"
   ]
  },
  {
   "cell_type": "code",
   "execution_count": 43,
   "id": "0d5363d6",
   "metadata": {},
   "outputs": [
    {
     "data": {
      "text/plain": [
       "{101, 111, 112, 113}"
      ]
     },
     "execution_count": 43,
     "metadata": {},
     "output_type": "execute_result"
    }
   ],
   "source": [
    "#find out unique subjects\n",
    "subject_list=[101,101,111,112,113,113]\n",
    "set(subject_list)"
   ]
  },
  {
   "cell_type": "markdown",
   "id": "8032e4c3",
   "metadata": {},
   "source": [
    "### 1.2.4 string"
   ]
  },
  {
   "cell_type": "code",
   "execution_count": 4,
   "id": "0554dbf3",
   "metadata": {},
   "outputs": [
    {
     "data": {
      "text/plain": [
       "str"
      ]
     },
     "execution_count": 4,
     "metadata": {},
     "output_type": "execute_result"
    }
   ],
   "source": [
    "name=\"Prajna\"\n",
    "type(name)"
   ]
  },
  {
   "cell_type": "markdown",
   "id": "beb92667",
   "metadata": {},
   "source": [
    "#### Extras"
   ]
  },
  {
   "cell_type": "code",
   "execution_count": 48,
   "id": "19a07678",
   "metadata": {},
   "outputs": [
    {
     "name": "stdout",
     "output_type": "stream",
     "text": [
      "\n",
      "Treatment A\n",
      "  (N=xxx)\n",
      "\n"
     ]
    }
   ],
   "source": [
    "long_string='''\n",
    "Treatment A\n",
    "  (N=xxx)\n",
    "'''\n",
    "print(long_string)"
   ]
  },
  {
   "cell_type": "code",
   "execution_count": 49,
   "id": "6dd328a7",
   "metadata": {},
   "outputs": [
    {
     "data": {
      "text/plain": [
       "str"
      ]
     },
     "execution_count": 49,
     "metadata": {},
     "output_type": "execute_result"
    }
   ],
   "source": [
    "type(long_string)"
   ]
  },
  {
   "cell_type": "code",
   "execution_count": 51,
   "id": "c4417f5b",
   "metadata": {},
   "outputs": [
    {
     "data": {
      "text/plain": [
       "'ABC12301001'"
      ]
     },
     "execution_count": 51,
     "metadata": {},
     "output_type": "execute_result"
    }
   ],
   "source": [
    "STUDYID='ABC123'\n",
    "SITEID='01'\n",
    "SUBJID='001'\n",
    "USUBJID=STUDYID+SITEID+SUBJID\n",
    "USUBJID"
   ]
  },
  {
   "cell_type": "code",
   "execution_count": 52,
   "id": "20e700df",
   "metadata": {},
   "outputs": [
    {
     "data": {
      "text/plain": [
       "'ABC123-01-001'"
      ]
     },
     "execution_count": 52,
     "metadata": {},
     "output_type": "execute_result"
    }
   ],
   "source": [
    "USUBJID=STUDYID + '-' + SITEID + '-' + SUBJID\n",
    "USUBJID"
   ]
  },
  {
   "cell_type": "markdown",
   "id": "66a7ad6a",
   "metadata": {},
   "source": [
    "### 1.2.5 range"
   ]
  },
  {
   "cell_type": "code",
   "execution_count": 24,
   "id": "b23c108d",
   "metadata": {},
   "outputs": [
    {
     "data": {
      "text/plain": [
       "range(0, 10)"
      ]
     },
     "execution_count": 24,
     "metadata": {},
     "output_type": "execute_result"
    }
   ],
   "source": [
    "#range creates objects that we can iterate over\n",
    "r1=range(10)\n",
    "r1"
   ]
  },
  {
   "cell_type": "code",
   "execution_count": 25,
   "id": "9271d0b7",
   "metadata": {},
   "outputs": [
    {
     "data": {
      "text/plain": [
       "range"
      ]
     },
     "execution_count": 25,
     "metadata": {},
     "output_type": "execute_result"
    }
   ],
   "source": [
    "type(r1)"
   ]
  },
  {
   "cell_type": "markdown",
   "id": "db710491",
   "metadata": {},
   "source": [
    "#### Extras"
   ]
  },
  {
   "cell_type": "code",
   "execution_count": 26,
   "id": "6c8d0503",
   "metadata": {},
   "outputs": [
    {
     "data": {
      "text/plain": [
       "[0, 1, 2, 3, 4, 5, 6, 7, 8, 9]"
      ]
     },
     "execution_count": 26,
     "metadata": {},
     "output_type": "execute_result"
    }
   ],
   "source": [
    " list(range(10))"
   ]
  },
  {
   "cell_type": "code",
   "execution_count": 21,
   "id": "7755e704",
   "metadata": {},
   "outputs": [
    {
     "data": {
      "text/plain": [
       "[0, 2, 4, 6, 8]"
      ]
     },
     "execution_count": 21,
     "metadata": {},
     "output_type": "execute_result"
    }
   ],
   "source": [
    "#all even number in 0 to 10\n",
    "list(range(0,10,2))\n"
   ]
  },
  {
   "cell_type": "code",
   "execution_count": 59,
   "id": "f6ebe923",
   "metadata": {},
   "outputs": [
    {
     "name": "stdout",
     "output_type": "stream",
     "text": [
      "0\n",
      "1\n",
      "2\n",
      "3\n",
      "4\n",
      "5\n",
      "6\n",
      "7\n",
      "8\n",
      "9\n"
     ]
    }
   ],
   "source": [
    "for num in range(0,10):\n",
    " print(num)"
   ]
  },
  {
   "cell_type": "code",
   "execution_count": 60,
   "id": "d6f18440",
   "metadata": {},
   "outputs": [
    {
     "name": "stdout",
     "output_type": "stream",
     "text": [
      "Visit Day 95\n",
      "Visit Day 95\n",
      "Visit Day 95\n",
      "Visit Day 95\n",
      "Visit Day 95\n",
      "Visit Day 95\n",
      "Visit Day 95\n",
      "Visit Day 95\n",
      "Visit Day 95\n",
      "Visit Day 95\n"
     ]
    }
   ],
   "source": [
    "for num in range(0,10):\n",
    " print(\"Visit Day 95\")"
   ]
  },
  {
   "cell_type": "markdown",
   "id": "8e7afa65",
   "metadata": {},
   "source": [
    "## 1.3 Dictionary"
   ]
  },
  {
   "cell_type": "markdown",
   "id": "b2de5d18",
   "metadata": {},
   "source": [
    "A dictionary is an unordered key value pair where the key is a string to grab the value."
   ]
  },
  {
   "cell_type": "code",
   "execution_count": 8,
   "id": "23f12947",
   "metadata": {},
   "outputs": [
    {
     "data": {
      "text/plain": [
       "dict"
      ]
     },
     "execution_count": 8,
     "metadata": {},
     "output_type": "execute_result"
    }
   ],
   "source": [
    "d1={\n",
    "    'a': 1,\n",
    "    'b': 2\n",
    "}\n",
    "type(d1)"
   ]
  },
  {
   "cell_type": "code",
   "execution_count": 9,
   "id": "2b0e5bf9",
   "metadata": {},
   "outputs": [
    {
     "data": {
      "text/plain": [
       "2"
      ]
     },
     "execution_count": 9,
     "metadata": {},
     "output_type": "execute_result"
    }
   ],
   "source": [
    "d1['b']"
   ]
  },
  {
   "cell_type": "code",
   "execution_count": 10,
   "id": "83b86dc1",
   "metadata": {},
   "outputs": [
    {
     "data": {
      "text/plain": [
       "dict"
      ]
     },
     "execution_count": 10,
     "metadata": {},
     "output_type": "execute_result"
    }
   ],
   "source": [
    "d2={\n",
    "    'a': [1,2,3],\n",
    "    'b': \"hello\",\n",
    "    'x': True\n",
    "}\n",
    "type(d2)"
   ]
  },
  {
   "cell_type": "code",
   "execution_count": 11,
   "id": "4c16c701",
   "metadata": {},
   "outputs": [
    {
     "data": {
      "text/plain": [
       "[1, 2, 3]"
      ]
     },
     "execution_count": 11,
     "metadata": {},
     "output_type": "execute_result"
    }
   ],
   "source": [
    "d2['a']"
   ]
  },
  {
   "cell_type": "code",
   "execution_count": 12,
   "id": "8e1bb398",
   "metadata": {},
   "outputs": [
    {
     "data": {
      "text/plain": [
       "2"
      ]
     },
     "execution_count": 12,
     "metadata": {},
     "output_type": "execute_result"
    }
   ],
   "source": [
    "d2['a'][1]"
   ]
  },
  {
   "cell_type": "markdown",
   "id": "dc8c5e54",
   "metadata": {},
   "source": [
    "#### Extras"
   ]
  },
  {
   "cell_type": "code",
   "execution_count": 15,
   "id": "af54e494",
   "metadata": {},
   "outputs": [],
   "source": [
    "ex1=[\n",
    "    {\n",
    "    'a': [1,2,3],\n",
    "    'b': \"hello\",\n",
    "    'x': True\n",
    "    },\n",
    "    {\n",
    "    'a': [4,5,6],\n",
    "    'b': \"hello\",\n",
    "    'x': True\n",
    "    }\n",
    "]"
   ]
  },
  {
   "cell_type": "code",
   "execution_count": 16,
   "id": "d0cfbb4e",
   "metadata": {},
   "outputs": [
    {
     "data": {
      "text/plain": [
       "list"
      ]
     },
     "execution_count": 16,
     "metadata": {},
     "output_type": "execute_result"
    }
   ],
   "source": [
    "type(ex1)"
   ]
  },
  {
   "cell_type": "code",
   "execution_count": 17,
   "id": "271a1d9a",
   "metadata": {},
   "outputs": [
    {
     "name": "stdout",
     "output_type": "stream",
     "text": [
      "[1, 2, 3]\n"
     ]
    }
   ],
   "source": [
    "print(ex1[0]['a'])"
   ]
  },
  {
   "cell_type": "code",
   "execution_count": 18,
   "id": "9dd085a7",
   "metadata": {},
   "outputs": [
    {
     "name": "stdout",
     "output_type": "stream",
     "text": [
      "6\n"
     ]
    }
   ],
   "source": [
    "print(ex1[1]['a'][2])"
   ]
  },
  {
   "cell_type": "code",
   "execution_count": null,
   "id": "095c03cd",
   "metadata": {},
   "outputs": [],
   "source": []
  },
  {
   "cell_type": "raw",
   "id": "3a2b0521",
   "metadata": {},
   "source": []
  },
  {
   "cell_type": "markdown",
   "id": "8d27aa44",
   "metadata": {},
   "source": [
    "# Custom types"
   ]
  },
  {
   "cell_type": "markdown",
   "id": "c8960e09",
   "metadata": {},
   "source": [
    "Beyond these fundamental data types, we can actually create our own using _**classes**_. \n",
    "\n",
    "classes\n",
    "\n",
    "So, I can create a class which doesn't exist and I can name it whatever I want, for example, **super car**."
   ]
  },
  {
   "cell_type": "markdown",
   "id": "0d96f93b",
   "metadata": {},
   "source": [
    "# Specialized data types"
   ]
  },
  {
   "cell_type": "markdown",
   "id": "3adb4895",
   "metadata": {},
   "source": [
    "Besides the fundamental data types and the custom types, we have **specialized data types** which can be considered as extensions that we can add to the language.\n",
    "\n",
    "They are not built into Python, but they are special packages and modules that we can use from libraries.\n",
    "\n",
    "So whenever we don't have a data type in the standard Python package and also we don't want to create our own custom types there are specialized data types that we can use from modules.\n",
    "\n",
    "Modules\n"
   ]
  },
  {
   "cell_type": "markdown",
   "id": "e73ba309",
   "metadata": {},
   "source": [
    "# Another special data type"
   ]
  },
  {
   "cell_type": "markdown",
   "id": "8eaddc0f",
   "metadata": {},
   "source": [
    "### None"
   ]
  },
  {
   "cell_type": "markdown",
   "id": "9eaff693",
   "metadata": {},
   "source": [
    "As the name suggests, it means nothing. It's kind of like the idea of zero in math or Null in SAS and other languages. It is the absence of value. "
   ]
  },
  {
   "cell_type": "code",
   "execution_count": 56,
   "id": "6ccee1c3",
   "metadata": {},
   "outputs": [
    {
     "name": "stdout",
     "output_type": "stream",
     "text": [
      "None\n"
     ]
    }
   ],
   "source": [
    "data=None\n",
    "print(data)"
   ]
  },
  {
   "cell_type": "code",
   "execution_count": 57,
   "id": "a00ae4a5",
   "metadata": {},
   "outputs": [
    {
     "data": {
      "text/plain": [
       "NoneType"
      ]
     },
     "execution_count": 57,
     "metadata": {},
     "output_type": "execute_result"
    }
   ],
   "source": [
    "type(data)"
   ]
  },
  {
   "cell_type": "code",
   "execution_count": null,
   "id": "440f5130",
   "metadata": {},
   "outputs": [],
   "source": []
  }
 ],
 "metadata": {
  "kernelspec": {
   "display_name": "Python 3",
   "language": "python",
   "name": "python3"
  },
  "language_info": {
   "codemirror_mode": {
    "name": "ipython",
    "version": 3
   },
   "file_extension": ".py",
   "mimetype": "text/x-python",
   "name": "python",
   "nbconvert_exporter": "python",
   "pygments_lexer": "ipython3",
   "version": "3.8.8"
  }
 },
 "nbformat": 4,
 "nbformat_minor": 5
}
